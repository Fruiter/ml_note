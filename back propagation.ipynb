{
 "cells": [
  {
   "cell_type": "code",
   "execution_count": 47,
   "metadata": {
    "collapsed": false
   },
   "outputs": [
    {
     "data": {
      "text/latex": [
       "\n",
       "Newton's method in Optimization\n",
       "\n",
       "Optimization is to find $x_n$ where $f^{\\prime}(x_n) = 0$\n",
       "\n",
       "$$\n",
       "f(x)=f(x_0+\\Delta{x})\\approx f(x_0)+f^{\\prime}(x_0)\\Delta{x}+\\frac{1}{2}f^{\\prime\\prime}(x)\\Delta{x}^2 \\approx f(x_0)+f^{\\prime}(x_0)\\Delta{x}\n",
       "$$\n",
       "\n",
       "$$\n",
       "f^{\\prime}(x) = 0 \n",
       "$$\n",
       "\n",
       "$$\n",
       "=> f^{\\prime}(x_0) + f^{\\prime\\prime}(x_0)\\Delta{x}=0\n",
       "$$\n",
       "\n",
       "$$\n",
       "\\Delta{x} = -\\frac{f^{\\prime}(x_0)}{f^{\\prime\\prime}(x_0)}\n",
       "$$\n",
       "\n",
       "Itration process to find $x_n$\n",
       "\n",
       "$$\n",
       "x_1 - x_0 = -\\frac{f^{\\prime}(x_0)}{f^{\\prime\\prime}(x_0)}\n",
       "$$\n",
       "\n",
       "$\\frac{1}{f^{\\prime\\prime}(x_0)}$ can be replaced with a fix value $\\varepsilon$ which is the learning rate\n",
       "\n",
       "$$\n",
       "x_1 = x_0 - \\varepsilon f^{\\prime}(x_0)\n",
       "$$"
      ],
      "text/plain": [
       "<IPython.core.display.Latex object>"
      ]
     },
     "metadata": {},
     "output_type": "display_data"
    }
   ],
   "source": [
    "%%latex\n",
    "\n",
    "Newton's method in Optimization\n",
    "\n",
    "Optimization is to find $x_n$ where $f^{\\prime}(x_n) = 0$\n",
    "\n",
    "$$\n",
    "f(x)=f(x_0+\\Delta{x})\\approx f(x_0)+f^{\\prime}(x_0)\\Delta{x}+\\frac{1}{2}f^{\\prime\\prime}(x)\\Delta{x}^2 \\approx f(x_0)+f^{\\prime}(x_0)\\Delta{x}\n",
    "$$\n",
    "\n",
    "$$\n",
    "f^{\\prime}(x) = 0 \n",
    "$$\n",
    "\n",
    "$$\n",
    "=> f^{\\prime}(x_0) + f^{\\prime\\prime}(x_0)\\Delta{x}=0\n",
    "$$\n",
    "\n",
    "$$\n",
    "\\Delta{x} = -\\frac{f^{\\prime}(x_0)}{f^{\\prime\\prime}(x_0)}\n",
    "$$\n",
    "\n",
    "Itration process to find $x_n$\n",
    "\n",
    "$$\n",
    "x_1 - x_0 = -\\frac{f^{\\prime}(x_0)}{f^{\\prime\\prime}(x_0)}\n",
    "$$\n",
    "\n",
    "$\\frac{1}{f^{\\prime\\prime}(x_0)}$ can be replaced with a fix value $\\varepsilon$ which is the learning rate\n",
    "\n",
    "$$\n",
    "x_1 = x_0 - \\varepsilon f^{\\prime}(x_0)\n",
    "$$"
   ]
  }
 ],
 "metadata": {
  "kernelspec": {
   "display_name": "Python 2",
   "language": "python",
   "name": "python2"
  },
  "language_info": {
   "codemirror_mode": {
    "name": "ipython",
    "version": 2
   },
   "file_extension": ".py",
   "mimetype": "text/x-python",
   "name": "python",
   "nbconvert_exporter": "python",
   "pygments_lexer": "ipython2",
   "version": "2.7.11"
  }
 },
 "nbformat": 4,
 "nbformat_minor": 0
}
